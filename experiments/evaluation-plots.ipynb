{
 "cells": [
  {
   "cell_type": "code",
   "execution_count": 11,
   "id": "528a2bd5",
   "metadata": {},
   "outputs": [
    {
     "name": "stdout",
     "output_type": "stream",
     "text": [
      "timestamp    2025-06-29T10:49:28+00:00\n",
      "field               fragments_received\n",
      "value                              0.0\n",
      "node                            node_0\n",
      "Name: 0, dtype: object\n"
     ]
    }
   ],
   "source": [
    "from matplotlib import pyplot\n",
    "import pandas as pd\n",
    "from os import listdir\n",
    "from os.path import isfile, join\n",
    "\n",
    "metrics_path = '../metrics/'\n",
    "\n",
    "data_files = [join(metrics_path, f) for f in listdir(metrics_path) if isfile(join(metrics_path, f)) and f.lower().endswith('.csv')]\n",
    "lastest_data = pd.read_csv(data_files[-1])\n",
    "\n",
    "print(lastest_data.iloc[0])"
   ]
  }
 ],
 "metadata": {
  "kernelspec": {
   "display_name": ".venv",
   "language": "python",
   "name": "python3"
  },
  "language_info": {
   "codemirror_mode": {
    "name": "ipython",
    "version": 3
   },
   "file_extension": ".py",
   "mimetype": "text/x-python",
   "name": "python",
   "nbconvert_exporter": "python",
   "pygments_lexer": "ipython3",
   "version": "3.10.12"
  }
 },
 "nbformat": 4,
 "nbformat_minor": 5
}
