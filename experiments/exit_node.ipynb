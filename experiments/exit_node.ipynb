{
 "cells": [
  {
   "cell_type": "code",
   "id": "initial_id",
   "metadata": {
    "collapsed": true,
    "ExecuteTime": {
     "end_time": "2025-07-25T09:01:28.764848Z",
     "start_time": "2025-07-25T09:01:28.758684Z"
    }
   },
   "source": [
    "import os\n",
    "\n",
    "import matplotlib.pyplot as plt\n",
    "import pandas as pd"
   ],
   "outputs": [],
   "execution_count": 22
  },
  {
   "metadata": {
    "ExecuteTime": {
     "end_time": "2025-07-25T09:01:28.778466Z",
     "start_time": "2025-07-25T09:01:28.773750Z"
    }
   },
   "cell_type": "code",
   "source": [
    "figure_path = 'figures_join_exit/'\n",
    "os.makedirs(figure_path, exist_ok=True)"
   ],
   "id": "9a167c3ce1a019bb",
   "outputs": [],
   "execution_count": 23
  },
  {
   "metadata": {
    "ExecuteTime": {
     "end_time": "2025-07-25T09:01:28.841655Z",
     "start_time": "2025-07-25T09:01:28.835145Z"
    }
   },
   "cell_type": "code",
   "source": [
    "def filter_time_window(df, start_time_limit_seconds=0, stop_time_before_end_seconds=90):\n",
    "    df['timestamp'] = pd.to_datetime(df['timestamp'], errors='coerce')\n",
    "    df['relative_time'] = (df['timestamp'] - df['timestamp'].min()).dt.total_seconds()\n",
    "    max_time = df['relative_time'].max()\n",
    "    return df[\n",
    "        (df['relative_time'] >= start_time_limit_seconds) &\n",
    "        (df['relative_time'] <= max_time - stop_time_before_end_seconds)\n",
    "    ]"
   ],
   "id": "eb6ed45411df3dc6",
   "outputs": [],
   "execution_count": 24
  },
  {
   "metadata": {
    "ExecuteTime": {
     "end_time": "2025-07-25T09:01:28.907249Z",
     "start_time": "2025-07-25T09:01:28.893156Z"
    }
   },
   "cell_type": "code",
   "source": [
    "def plot_metrics_by_node(df, field_name, figure_path='figures_join_exit/', start_time_limit_seconds=0, stop_time_before_end_seconds=90):\n",
    "    os.makedirs(figure_path, exist_ok=True)\n",
    "    filtered_df = df[df['field'] == field_name].copy()\n",
    "    if filtered_df.empty:\n",
    "        return\n",
    "\n",
    "    if 'node' not in filtered_df.columns:\n",
    "        return\n",
    "\n",
    "    filtered_df['node'] = filtered_df['node'].str.split('_').str[-1].astype(int)\n",
    "    filtered_df = filter_time_window(filtered_df, start_time_limit_seconds, stop_time_before_end_seconds)\n",
    "\n",
    "    pivot_df = filtered_df.pivot(index='relative_time', columns='node', values='value')\n",
    "    pivot_df = pivot_df.sort_index()\n",
    "    pivot_df = pivot_df.ffill()\n",
    "    pivot_df = pivot_df.bfill()\n",
    "\n",
    "    plt.rcParams['font.family'] = 'sans-serif'\n",
    "    plt.rcParams['font.sans-serif'] = ['DejaVu Sans']\n",
    "    plt.rc('axes', axisbelow=True)\n",
    "    plt.rcParams.update({'font.size': 10, 'xtick.labelsize': 8, 'ytick.labelsize': 8})\n",
    "\n",
    "    plt.figure(figsize=(12, 7))\n",
    "    for node in pivot_df.columns:\n",
    "        plt.plot(pivot_df.index, pivot_df[node], label=f\"Node {node}\", linewidth=1.5, linestyle='-')\n",
    "\n",
    "    plt.title(f\"{field_name.replace('_', ' ').title()}\", fontsize=14)\n",
    "    plt.xlabel(\"Time (seconds)\", fontsize=12)\n",
    "    plt.ylabel(f\"{field_name.replace('_', ' ').title()}\", fontsize=12)\n",
    "    plt.legend(title=\"Nodes\", fontsize=10, loc=\"best\")\n",
    "    plt.grid(visible=True, linestyle='--', alpha=0.6)\n",
    "\n",
    "    plt.tight_layout()\n",
    "    plot_path = os.path.join(figure_path, f\"{field_name.replace(' ', '_').lower()}.png\")\n",
    "    plt.savefig(plot_path, dpi=300)\n",
    "    plt.close()\n"
   ],
   "id": "9a943ae1a56670d4",
   "outputs": [],
   "execution_count": 25
  },
  {
   "metadata": {
    "ExecuteTime": {
     "end_time": "2025-07-25T09:01:28.951861Z",
     "start_time": "2025-07-25T09:01:28.947530Z"
    }
   },
   "cell_type": "code",
   "source": [
    "def read_file(path):\n",
    "    return pd.read_csv(path, comment='#')"
   ],
   "id": "87b521412fb59947",
   "outputs": [],
   "execution_count": 26
  },
  {
   "metadata": {
    "ExecuteTime": {
     "end_time": "2025-07-25T09:01:29.010332Z",
     "start_time": "2025-07-25T09:01:29.003654Z"
    }
   },
   "cell_type": "code",
   "source": [
    "def process_data(df):\n",
    "    if 'timestamp' in df.columns:\n",
    "        df['timestamp'] = pd.to_datetime(df['timestamp'], errors='coerce')\n",
    "        df = df.sort_values(by='timestamp')\n",
    "        df['time_passed_seconds'] = (df['timestamp'] - df['timestamp'].iloc[0]).dt.total_seconds()\n",
    "        df['time_passed_minutes'] = df['time_passed_seconds'] / 60\n",
    "    if 'value' in df.columns:\n",
    "        df['value'] = pd.to_numeric(df['value'], errors='coerce')\n",
    "    return df\n"
   ],
   "id": "a179e687813b65da",
   "outputs": [],
   "execution_count": 27
  },
  {
   "metadata": {
    "ExecuteTime": {
     "end_time": "2025-07-25T09:01:29.065374Z",
     "start_time": "2025-07-25T09:01:29.058995Z"
    }
   },
   "cell_type": "code",
   "source": [
    "def main(file_path, metric_names):\n",
    "    if not os.path.isfile(file_path):\n",
    "        print(f\"File not found: {file_path}\")\n",
    "        return\n",
    "\n",
    "    data = read_file(file_path)\n",
    "    data = process_data(data)\n",
    "\n",
    "    unique_fields = data['field'].unique()\n",
    "\n",
    "    for metric in metric_names:\n",
    "        if metric in unique_fields:\n",
    "            plot_metrics_by_node(data, metric, figure_path)\n",
    "        else:\n",
    "            print(f\"Metric not found in data: {metric}\")"
   ],
   "id": "ce424af21647dcd4",
   "outputs": [],
   "execution_count": 28
  },
  {
   "metadata": {
    "ExecuteTime": {
     "end_time": "2025-07-25T09:01:31.934302Z",
     "start_time": "2025-07-25T09:01:29.115549Z"
    }
   },
   "cell_type": "code",
   "source": [
    "metrics_path = '../metrics/'\n",
    "file_path = os.path.join(metrics_path, \"exit_node.csv\")\n",
    "metric_names = [\n",
    "    'total_messages_sent',\n",
    "    'total_sent',\n",
    "    \"active_peers\",\n",
    "    \"current_round\",\n",
    "    \"round_time\",\n",
    "]\n",
    "main(file_path, metric_names)\n"
   ],
   "id": "f955a02174c8810e",
   "outputs": [
    {
     "name": "stdout",
     "output_type": "stream",
     "text": [
      "Metric not found in data: total_messages_sent\n"
     ]
    }
   ],
   "execution_count": 29
  },
  {
   "metadata": {
    "ExecuteTime": {
     "end_time": "2025-07-25T09:01:31.946191Z",
     "start_time": "2025-07-25T09:01:31.943161Z"
    }
   },
   "cell_type": "code",
   "source": "",
   "id": "b61da27119fb7726",
   "outputs": [],
   "execution_count": null
  }
 ],
 "metadata": {
  "kernelspec": {
   "display_name": "Python 3",
   "language": "python",
   "name": "python3"
  },
  "language_info": {
   "codemirror_mode": {
    "name": "ipython",
    "version": 2
   },
   "file_extension": ".py",
   "mimetype": "text/x-python",
   "name": "python",
   "nbconvert_exporter": "python",
   "pygments_lexer": "ipython2",
   "version": "2.7.6"
  }
 },
 "nbformat": 4,
 "nbformat_minor": 5
}
